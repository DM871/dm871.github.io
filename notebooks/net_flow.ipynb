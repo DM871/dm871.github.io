{
 "metadata": {
  "language_info": {
   "codemirror_mode": {
    "name": "ipython",
    "version": 3
   },
   "file_extension": ".py",
   "mimetype": "text/x-python",
   "name": "python",
   "nbconvert_exporter": "python",
   "pygments_lexer": "ipython3",
   "version": "3.9.1-final"
  },
  "orig_nbformat": 2,
  "kernelspec": {
   "name": "python3",
   "display_name": "Python 3.9.1 64-bit",
   "metadata": {
    "interpreter": {
     "hash": "aee8b7b246df8f9039afb4144a1f6fd8d2ca17a180786b69acc140d282b71a49"
    }
   }
  }
 },
 "nbformat": 4,
 "nbformat_minor": 2,
 "cells": [
  {
   "source": [
    "[![Open In Colab](https://colab.research.google.com/assets/colab-badge.svg)](https://colab.research.google.com/github/DM871/dm871.github.io/tree/main/notebooks/net_flow.ipynb)"
   ],
   "cell_type": "markdown",
   "metadata": {}
  },
  {
   "source": [
    "# Network flow exercise\n",
    "\n",
    "Given the network below with the directed graph and the capacities on arcs, determine the max flow from $1$ to $7$ and indicate the min cut. \n",
    "You can use the following approaches:\n",
    "- by hand using the Ford Fulkerson algorithm and depict all intermidiate residual networks after each iteration of the algorithm.\n",
    "- using spreadsheets\n",
    "- using Gurobi\n",
    "\n",
    "<img src=\"max_flow.jpg\" alt=\"drawing\" width=\"500\"/>\n"
   ],
   "cell_type": "markdown",
   "metadata": {}
  },
  {
   "source": [
    "To implement the mincost flow model in Gurobi Python the best starting point is perhaps the [mulitcommodity flow example](https://www.gurobi.com/documentation/9.1/examples/netflow_py.html) at Gurobi. In particular, it is worth observing the\n",
    "  use of the Gurobi data type `tuplelist` in the flow conservation constraints.\n",
    "\n",
    " It is first necessary to formulate the max flow problem as a min cost\n",
    " flow problem. This has been done in class and it is available from the slides.\n",
    " \n"
   ],
   "cell_type": "markdown",
   "metadata": {}
  },
  {
   "source": [
    "If we are working on Google Colab we import the Gurobi Python Module and other Python libraries. With Gurobi 9.1.1, a pip installation of the product will automatically include a size-limited (2000 variables, 2000 linear constraints, and 200 quadratic constraints) license that should work in a Docker container, which is used by Google Colab."
   ],
   "cell_type": "markdown",
   "metadata": {}
  },
  {
   "cell_type": "code",
   "execution_count": 4,
   "metadata": {},
   "outputs": [],
   "source": [
    "#%pip install -i https://pypi.gurobi.com gurobipy"
   ]
  },
  {
   "cell_type": "code",
   "execution_count": 25,
   "metadata": {},
   "outputs": [],
   "source": [
    "import gurobipy as gp\n",
    "from gurobipy import GRB"
   ]
  },
  {
   "source": [
    "We define the data representation of the network:"
   ],
   "cell_type": "markdown",
   "metadata": {}
  },
  {
   "cell_type": "code",
   "execution_count": 6,
   "metadata": {},
   "outputs": [],
   "source": [
    "nodes = ['a','b','c','d','e','f','g','h']\n",
    "\n",
    "arcs, capacity = multidict({\n",
    "('a','b'): 15,\n",
    "('a','c'): 5,\n",
    "('a','d'): 10,\n",
    "('d','c'): 4,\n",
    "('c','b'): 4,\n",
    "('d','g'): 9,\n",
    "('d','f'): 15,\n",
    "('c','f'): 8,\n",
    "('b','e'): 30,\n",
    "('e','c'): 6,\n",
    "('g','f'): 15,\n",
    "('f','e'): 15,\n",
    "('g','h'): 10,\n",
    "('f','h'): 10,\n",
    "('e','h'): 10,\n",
    "('h','a'): GRB.INFINITY})\n",
    "\n",
    "arcs = tuplelist(arcs)\n",
    "\n",
    "cost = {\n",
    "('a','b'): 0,\n",
    "('a','c'): 0,\n",
    "('a','d'): 0,\n",
    "('d','c'): 0,\n",
    "('c','b'): 0,\n",
    "('d','g'): 0,\n",
    "('d','f'): 0,\n",
    "('c','f'): 0,\n",
    "('b','e'): 0,\n",
    "('e','c'): 0,\n",
    "('g','f'): 0,\n",
    "('f','e'): 0,\n",
    "('g','h'): 0,\n",
    "('f','h'): 0,\n",
    "('e','h'): 0,\n",
    "('h','a'): -1}\n",
    "\n",
    "inflow={\n",
    "'a':0,\n",
    "'b':0,\n",
    "'c':0,\n",
    "'d':0,\n",
    "'e':0,\n",
    "'f':0,\n",
    "'g':0,\n",
    "'h':0\n",
    "}\n"
   ]
  },
  {
   "cell_type": "code",
   "execution_count": 34,
   "metadata": {},
   "outputs": [
    {
     "output_type": "stream",
     "name": "stdout",
     "text": [
      "Gurobi Optimizer version 9.1.1 build v9.1.1rc0 (mac64)\n",
      "Thread count: 2 physical cores, 4 logical processors, using up to 4 threads\n",
      "Optimize a model with 24 rows, 16 columns and 48 nonzeros\n",
      "Model fingerprint: 0x4dc5e178\n",
      "Coefficient statistics:\n",
      "  Matrix range     [1e+00, 1e+00]\n",
      "  Objective range  [1e+00, 1e+00]\n",
      "  Bounds range     [0e+00, 0e+00]\n",
      "  RHS range        [4e+00, 3e+01]\n",
      "Presolve removed 19 rows and 4 columns\n",
      "Presolve time: 0.05s\n",
      "Presolved: 5 rows, 12 columns, 19 nonzeros\n",
      "\n",
      "Iteration    Objective       Primal Inf.    Dual Inf.      Time\n",
      "       0   -3.0000000e+01   1.050000e+01   0.000000e+00      0s\n",
      "       5   -2.8000000e+01   0.000000e+00   0.000000e+00      0s\n",
      "\n",
      "Solved in 5 iterations and 0.09 seconds\n",
      "Optimal objective -2.800000000e+01\n",
      "Warning: constraint name \"cap[a, b]\" has a space\n",
      "\n",
      "Optimal flow:\n",
      "a -> b: 15\n",
      "a -> c: 3\n",
      "a -> d: 10\n",
      "d -> g: 9\n",
      "d -> f: 1\n",
      "c -> f: 8\n",
      "b -> e: 15\n",
      "e -> c: 5\n",
      "g -> h: 9\n",
      "f -> h: 9\n",
      "e -> h: 10\n",
      "h -> a: 28\n",
      "a -1.0\n",
      "b -1.0\n",
      "c -1.0\n",
      "d 0.0\n",
      "e -1.0\n",
      "f 0.0\n",
      "g 0.0\n",
      "h 0.0\n",
      "a b 0.0\n",
      "a c 0.0\n",
      "a d -1.0\n",
      "d c 0.0\n",
      "c b 0.0\n",
      "d g 0.0\n",
      "d f 0.0\n",
      "c f -1.0\n",
      "b e 0.0\n",
      "e c 0.0\n",
      "g f 0.0\n",
      "f e 0.0\n",
      "g h 0.0\n",
      "f h 0.0\n",
      "e h -1.0\n",
      "h a 0.0\n"
     ]
    }
   ],
   "source": [
    "# Create optimization model\n",
    "m = gp.Model('netflow')\n",
    "\n",
    "# Create variables\n",
    "flow = {}\n",
    "for i,j in arcs:\n",
    "    flow[i,j] = m.addVar(obj=cost[i,j],vtype=GRB.CONTINUOUS, name=f'flow({i},{j})')\n",
    "# Alternative way\n",
    "# flow = m.addVars(arcs, obj=cost, name=\"flow\")\n",
    "\n",
    "m.modelSense=GRB.MINIMIZE\n",
    "# Arc capacity constraints\n",
    "# using Python looping\n",
    "dual_w={}\n",
    "for i, j in arcs:\n",
    "   dual_w[i,j] = m.addConstr(flow[i, j] <= capacity[i, j], f\"cap[{i}, {j}]\")\n",
    "# Equivalent version\n",
    "# m.addConstrs( (flow[i, j] <= capacity[i, j] for i, j in arcs), \"cap\")\n",
    "\n",
    "\n",
    "# Flow conservation constraints\n",
    "dual_pi={}\n",
    "for j in nodes:\n",
    "    dual_pi[j] = m.addConstr(gp.quicksum(flow[i,j] for i,j in arcs.select('*',j)) - gp.quicksum(flow[j,k] for j,k in arcs.select(j,'*'))==inflow[j], f'node({j})')\n",
    "\n",
    "# Equivalent version\n",
    "#m.addConstrs(  (flow.sum('*', j) + inflow[j] == flow.sum(j, '*') for j in nodes), \"node\")\n",
    "\n",
    "\n",
    "# Compute optimal solution\n",
    "m.optimize()\n",
    "m.write(\"mincost.lp\")\n",
    "# Print solution\n",
    "if m.status == GRB.status.OPTIMAL:\n",
    "    solution = m.getAttr('x', flow)\n",
    "    print('\\nOptimal flow:')\n",
    "    for i,j in arcs:\n",
    "        if solution[i,j] > 0:\n",
    "            print('%s -> %s: %g' % (i, j, solution[i,j]))\n",
    "    \n",
    "    # For the min cut\n",
    "    for i in nodes:\n",
    "        print(i, dual_pi[i].pi)\n",
    "    for i,j in arcs:\n",
    "        print(i,j,dual_w[i,j].pi)        \n"
   ]
  },
  {
   "source": [
    "## Networkx\n",
    "\n",
    "The module networkx implements several tools for working with graphs. An alternative is networkit.\n",
    "\n",
    "In networkx we can draw graphs:"
   ],
   "cell_type": "markdown",
   "metadata": {}
  },
  {
   "cell_type": "code",
   "execution_count": 14,
   "metadata": {},
   "outputs": [
    {
     "output_type": "display_data",
     "data": {
      "text/plain": "<Figure size 432x288 with 1 Axes>",
      "image/svg+xml": "<?xml version=\"1.0\" encoding=\"utf-8\" standalone=\"no\"?>\n<!DOCTYPE svg PUBLIC \"-//W3C//DTD SVG 1.1//EN\"\n  \"http://www.w3.org/Graphics/SVG/1.1/DTD/svg11.dtd\">\n<!-- Created with matplotlib (https://matplotlib.org/) -->\n<svg height=\"302.4pt\" version=\"1.1\" viewBox=\"0 0 446.4 302.4\" width=\"446.4pt\" xmlns=\"http://www.w3.org/2000/svg\" xmlns:xlink=\"http://www.w3.org/1999/xlink\">\n <metadata>\n  <rdf:RDF xmlns:cc=\"http://creativecommons.org/ns#\" xmlns:dc=\"http://purl.org/dc/elements/1.1/\" xmlns:rdf=\"http://www.w3.org/1999/02/22-rdf-syntax-ns#\">\n   <cc:Work>\n    <dc:type rdf:resource=\"http://purl.org/dc/dcmitype/StillImage\"/>\n    <dc:date>2021-03-24T00:44:38.413692</dc:date>\n    <dc:format>image/svg+xml</dc:format>\n    <dc:creator>\n     <cc:Agent>\n      <dc:title>Matplotlib v3.3.4, https://matplotlib.org/</dc:title>\n     </cc:Agent>\n    </dc:creator>\n   </cc:Work>\n  </rdf:RDF>\n </metadata>\n <defs>\n  <style type=\"text/css\">*{stroke-linecap:butt;stroke-linejoin:round;}</style>\n </defs>\n <g id=\"figure_1\">\n  <g id=\"patch_1\">\n   <path d=\"M 0 302.4 \nL 446.4 302.4 \nL 446.4 0 \nL 0 0 \nz\n\" style=\"fill:#ffffff;\"/>\n  </g>\n  <g id=\"axes_1\">\n   <g id=\"patch_2\">\n    <path clip-path=\"url(#p49a2db1e0c)\" d=\"M 289.695432 233.20211 \nQ 342.208512 194.759867 393.819452 156.978036 \n\" style=\"fill:none;stroke:#000000;stroke-linecap:round;\"/>\n    <path clip-path=\"url(#p49a2db1e0c)\" d=\"M 389.410478 157.727002 \nL 393.819452 156.978036 \nL 391.77324 160.954595 \nL 389.410478 157.727002 \nz\n\" style=\"stroke:#000000;stroke-linecap:round;\"/>\n   </g>\n   <g id=\"patch_3\">\n    <path clip-path=\"url(#p49a2db1e0c)\" d=\"M 282.704132 229.659768 \nQ 282.704132 210.704524 282.704132 192.867315 \n\" style=\"fill:none;stroke:#000000;stroke-linecap:round;\"/>\n    <path clip-path=\"url(#p49a2db1e0c)\" d=\"M 280.704132 196.867315 \nL 282.704132 192.867315 \nL 284.704132 196.867315 \nL 280.704132 196.867315 \nz\n\" style=\"stroke:#000000;stroke-linecap:round;\"/>\n   </g>\n   <g id=\"patch_4\">\n    <path clip-path=\"url(#p49a2db1e0c)\" d=\"M 274.339995 240.56126 \nQ 223.199839 254.264223 173.139621 267.677818 \n\" style=\"fill:none;stroke:#000000;stroke-linecap:round;\"/>\n    <path clip-path=\"url(#p49a2db1e0c)\" d=\"M 177.520963 268.574394 \nL 173.139621 267.677818 \nL 176.485686 264.710691 \nL 177.520963 268.574394 \nz\n\" style=\"stroke:#000000;stroke-linecap:round;\"/>\n   </g>\n   <g id=\"patch_5\">\n    <path clip-path=\"url(#p49a2db1e0c)\" d=\"M 395.587292 145.074895 \nQ 342.206524 91.694127 289.616326 39.103929 \n\" style=\"fill:none;stroke:#000000;stroke-linecap:round;\"/>\n    <path clip-path=\"url(#p49a2db1e0c)\" d=\"M 291.030539 43.34657 \nL 289.616326 39.103929 \nL 293.858966 40.518142 \nL 291.030539 43.34657 \nz\n\" style=\"stroke:#000000;stroke-linecap:round;\"/>\n   </g>\n   <g id=\"patch_6\">\n    <path clip-path=\"url(#p49a2db1e0c)\" d=\"M 291.068269 180.847005 \nQ 342.208425 167.144041 392.268643 153.730446 \n\" style=\"fill:none;stroke:#000000;stroke-linecap:round;\"/>\n    <path clip-path=\"url(#p49a2db1e0c)\" d=\"M 387.887302 152.833871 \nL 392.268643 153.730446 \nL 388.922578 156.697574 \nL 387.887302 152.833871 \nz\n\" style=\"stroke:#000000;stroke-linecap:round;\"/>\n   </g>\n   <g id=\"patch_7\">\n    <path clip-path=\"url(#p49a2db1e0c)\" d=\"M 275.073628 178.998993 \nQ 223.200102 151.200055 172.312026 123.929217 \n\" style=\"fill:none;stroke:#000000;stroke-linecap:round;\"/>\n    <path clip-path=\"url(#p49a2db1e0c)\" d=\"M 174.89298 127.581432 \nL 172.312026 123.929217 \nL 176.78237 124.055782 \nL 174.89298 127.581432 \nz\n\" style=\"stroke:#000000;stroke-linecap:round;\"/>\n   </g>\n   <g id=\"patch_8\">\n    <path clip-path=\"url(#p49a2db1e0c)\" d=\"M 170.687167 265.090278 \nQ 223.200247 226.648035 274.811188 188.866205 \n\" style=\"fill:none;stroke:#000000;stroke-linecap:round;\"/>\n    <path clip-path=\"url(#p49a2db1e0c)\" d=\"M 270.402214 189.61517 \nL 274.811188 188.866205 \nL 272.764976 192.842763 \nL 270.402214 189.61517 \nz\n\" style=\"stroke:#000000;stroke-linecap:round;\"/>\n   </g>\n   <g id=\"patch_9\">\n    <path clip-path=\"url(#p49a2db1e0c)\" d=\"M 157.570763 264.08316 \nQ 104.189995 210.702392 51.599797 158.112193 \n\" style=\"fill:none;stroke:#000000;stroke-linecap:round;\"/>\n    <path clip-path=\"url(#p49a2db1e0c)\" d=\"M 53.01401 162.354834 \nL 51.599797 158.112193 \nL 55.842437 159.526407 \nL 53.01401 162.354834 \nz\n\" style=\"stroke:#000000;stroke-linecap:round;\"/>\n   </g>\n   <g id=\"patch_10\">\n    <path clip-path=\"url(#p49a2db1e0c)\" d=\"M 163.695868 261.546271 \nQ 163.695868 194.75885 163.695868 129.089464 \n\" style=\"fill:none;stroke:#000000;stroke-linecap:round;\"/>\n    <path clip-path=\"url(#p49a2db1e0c)\" d=\"M 161.695868 133.089464 \nL 163.695868 129.089464 \nL 165.695868 133.089464 \nL 161.695868 133.089464 \nz\n\" style=\"stroke:#000000;stroke-linecap:round;\"/>\n   </g>\n   <g id=\"patch_11\">\n    <path clip-path=\"url(#p49a2db1e0c)\" d=\"M 282.704132 40.853729 \nQ 282.704132 107.64115 282.704132 173.310536 \n\" style=\"fill:none;stroke:#000000;stroke-linecap:round;\"/>\n    <path clip-path=\"url(#p49a2db1e0c)\" d=\"M 284.704132 169.310536 \nL 282.704132 173.310536 \nL 280.704132 169.310536 \nL 284.704132 169.310536 \nz\n\" style=\"stroke:#000000;stroke-linecap:round;\"/>\n   </g>\n   <g id=\"patch_12\">\n    <path clip-path=\"url(#p49a2db1e0c)\" d=\"M 274.339995 34.432899 \nQ 223.199839 48.135863 173.139621 61.549458 \n\" style=\"fill:none;stroke:#000000;stroke-linecap:round;\"/>\n    <path clip-path=\"url(#p49a2db1e0c)\" d=\"M 177.520963 62.446033 \nL 173.139621 61.549458 \nL 176.485686 58.58233 \nL 177.520963 62.446033 \nz\n\" style=\"stroke:#000000;stroke-linecap:round;\"/>\n   </g>\n   <g id=\"patch_13\">\n    <path clip-path=\"url(#p49a2db1e0c)\" d=\"M 170.687167 114.193845 \nQ 223.200247 75.751602 274.811188 37.969772 \n\" style=\"fill:none;stroke:#000000;stroke-linecap:round;\"/>\n    <path clip-path=\"url(#p49a2db1e0c)\" d=\"M 270.402214 38.718737 \nL 274.811188 37.969772 \nL 272.764976 41.94633 \nL 270.402214 38.718737 \nz\n\" style=\"stroke:#000000;stroke-linecap:round;\"/>\n   </g>\n   <g id=\"patch_14\">\n    <path clip-path=\"url(#p49a2db1e0c)\" d=\"M 163.695868 110.651503 \nQ 163.695868 91.69626 163.695868 73.85905 \n\" style=\"fill:none;stroke:#000000;stroke-linecap:round;\"/>\n    <path clip-path=\"url(#p49a2db1e0c)\" d=\"M 161.695868 77.85905 \nL 163.695868 73.85905 \nL 165.695868 77.85905 \nL 161.695868 77.85905 \nz\n\" style=\"stroke:#000000;stroke-linecap:round;\"/>\n   </g>\n   <g id=\"patch_15\">\n    <path clip-path=\"url(#p49a2db1e0c)\" d=\"M 53.05174 148.958836 \nQ 104.191896 135.255873 154.252114 121.842278 \n\" style=\"fill:none;stroke:#000000;stroke-linecap:round;\"/>\n    <path clip-path=\"url(#p49a2db1e0c)\" d=\"M 149.870773 120.945702 \nL 154.252114 121.842278 \nL 150.906049 124.809406 \nL 149.870773 120.945702 \nz\n\" style=\"stroke:#000000;stroke-linecap:round;\"/>\n   </g>\n   <g id=\"patch_16\">\n    <path clip-path=\"url(#p49a2db1e0c)\" d=\"M 51.678903 146.082013 \nQ 104.191983 107.639771 155.802923 69.85794 \n\" style=\"fill:none;stroke:#000000;stroke-linecap:round;\"/>\n    <path clip-path=\"url(#p49a2db1e0c)\" d=\"M 151.393949 70.606906 \nL 155.802923 69.85794 \nL 153.756711 73.834499 \nL 151.393949 70.606906 \nz\n\" style=\"stroke:#000000;stroke-linecap:round;\"/>\n   </g>\n   <g id=\"patch_17\">\n    <path clip-path=\"url(#p49a2db1e0c)\" d=\"M 168.578882 71.229133 \nQ 223.199175 151.198792 277.188886 230.245215 \n\" style=\"fill:none;stroke:#000000;stroke-linecap:round;\"/>\n    <path clip-path=\"url(#p49a2db1e0c)\" d=\"M 276.584382 225.814123 \nL 277.188886 230.245215 \nL 273.28131 228.070163 \nL 276.584382 225.814123 \nz\n\" style=\"stroke:#000000;stroke-linecap:round;\"/>\n   </g>\n   <g id=\"PathCollection_1\">\n    <defs>\n     <path d=\"M 0 8.660254 \nC 2.296726 8.660254 4.499694 7.747755 6.123724 6.123724 \nC 7.747755 4.499694 8.660254 2.296726 8.660254 0 \nC 8.660254 -2.296726 7.747755 -4.499694 6.123724 -6.123724 \nC 4.499694 -7.747755 2.296726 -8.660254 0 -8.660254 \nC -2.296726 -8.660254 -4.499694 -7.747755 -6.123724 -6.123724 \nC -7.747755 -4.499694 -8.660254 -2.296726 -8.660254 0 \nC -8.660254 2.296726 -7.747755 4.499694 -6.123724 6.123724 \nC -4.499694 7.747755 -2.296726 8.660254 0 8.660254 \nz\n\" id=\"m125d15b930\" style=\"stroke:#1f78b4;\"/>\n    </defs>\n    <g clip-path=\"url(#p49a2db1e0c)\">\n     <use style=\"fill:#1f78b4;stroke:#1f78b4;\" x=\"282.704132\" xlink:href=\"#m125d15b930\" y=\"238.320096\"/>\n     <use style=\"fill:#1f78b4;stroke:#1f78b4;\" x=\"401.712397\" xlink:href=\"#m125d15b930\" y=\"151.2\"/>\n     <use style=\"fill:#1f78b4;stroke:#1f78b4;\" x=\"282.704132\" xlink:href=\"#m125d15b930\" y=\"183.088168\"/>\n     <use style=\"fill:#1f78b4;stroke:#1f78b4;\" x=\"163.695868\" xlink:href=\"#m125d15b930\" y=\"270.208264\"/>\n     <use style=\"fill:#1f78b4;stroke:#1f78b4;\" x=\"282.704132\" xlink:href=\"#m125d15b930\" y=\"32.191736\"/>\n     <use style=\"fill:#1f78b4;stroke:#1f78b4;\" x=\"163.695868\" xlink:href=\"#m125d15b930\" y=\"119.311832\"/>\n     <use style=\"fill:#1f78b4;stroke:#1f78b4;\" x=\"44.687603\" xlink:href=\"#m125d15b930\" y=\"151.2\"/>\n     <use style=\"fill:#1f78b4;stroke:#1f78b4;\" x=\"163.695868\" xlink:href=\"#m125d15b930\" y=\"64.079904\"/>\n    </g>\n   </g>\n   <g id=\"text_1\">\n    <g clip-path=\"url(#p49a2db1e0c)\">\n     <!-- a -->\n     <g transform=\"translate(279.027257 241.631346)scale(0.12 -0.12)\">\n      <defs>\n       <path d=\"M 34.28125 27.484375 \nQ 23.390625 27.484375 19.1875 25 \nQ 14.984375 22.515625 14.984375 16.5 \nQ 14.984375 11.71875 18.140625 8.90625 \nQ 21.296875 6.109375 26.703125 6.109375 \nQ 34.1875 6.109375 38.703125 11.40625 \nQ 43.21875 16.703125 43.21875 25.484375 \nL 43.21875 27.484375 \nz\nM 52.203125 31.203125 \nL 52.203125 0 \nL 43.21875 0 \nL 43.21875 8.296875 \nQ 40.140625 3.328125 35.546875 0.953125 \nQ 30.953125 -1.421875 24.3125 -1.421875 \nQ 15.921875 -1.421875 10.953125 3.296875 \nQ 6 8.015625 6 15.921875 \nQ 6 25.140625 12.171875 29.828125 \nQ 18.359375 34.515625 30.609375 34.515625 \nL 43.21875 34.515625 \nL 43.21875 35.40625 \nQ 43.21875 41.609375 39.140625 45 \nQ 35.0625 48.390625 27.6875 48.390625 \nQ 23 48.390625 18.546875 47.265625 \nQ 14.109375 46.140625 10.015625 43.890625 \nL 10.015625 52.203125 \nQ 14.9375 54.109375 19.578125 55.046875 \nQ 24.21875 56 28.609375 56 \nQ 40.484375 56 46.34375 49.84375 \nQ 52.203125 43.703125 52.203125 31.203125 \nz\n\" id=\"DejaVuSans-97\"/>\n      </defs>\n      <use xlink:href=\"#DejaVuSans-97\"/>\n     </g>\n    </g>\n   </g>\n   <g id=\"text_2\">\n    <g clip-path=\"url(#p49a2db1e0c)\">\n     <!-- b -->\n     <g transform=\"translate(397.903334 154.51125)scale(0.12 -0.12)\">\n      <defs>\n       <path d=\"M 48.6875 27.296875 \nQ 48.6875 37.203125 44.609375 42.84375 \nQ 40.53125 48.484375 33.40625 48.484375 \nQ 26.265625 48.484375 22.1875 42.84375 \nQ 18.109375 37.203125 18.109375 27.296875 \nQ 18.109375 17.390625 22.1875 11.75 \nQ 26.265625 6.109375 33.40625 6.109375 \nQ 40.53125 6.109375 44.609375 11.75 \nQ 48.6875 17.390625 48.6875 27.296875 \nz\nM 18.109375 46.390625 \nQ 20.953125 51.265625 25.265625 53.625 \nQ 29.59375 56 35.59375 56 \nQ 45.5625 56 51.78125 48.09375 \nQ 58.015625 40.1875 58.015625 27.296875 \nQ 58.015625 14.40625 51.78125 6.484375 \nQ 45.5625 -1.421875 35.59375 -1.421875 \nQ 29.59375 -1.421875 25.265625 0.953125 \nQ 20.953125 3.328125 18.109375 8.203125 \nL 18.109375 0 \nL 9.078125 0 \nL 9.078125 75.984375 \nL 18.109375 75.984375 \nz\n\" id=\"DejaVuSans-98\"/>\n      </defs>\n      <use xlink:href=\"#DejaVuSans-98\"/>\n     </g>\n    </g>\n   </g>\n   <g id=\"text_3\">\n    <g clip-path=\"url(#p49a2db1e0c)\">\n     <!-- c -->\n     <g transform=\"translate(279.40507 186.399418)scale(0.12 -0.12)\">\n      <defs>\n       <path d=\"M 48.78125 52.59375 \nL 48.78125 44.1875 \nQ 44.96875 46.296875 41.140625 47.34375 \nQ 37.3125 48.390625 33.40625 48.390625 \nQ 24.65625 48.390625 19.8125 42.84375 \nQ 14.984375 37.3125 14.984375 27.296875 \nQ 14.984375 17.28125 19.8125 11.734375 \nQ 24.65625 6.203125 33.40625 6.203125 \nQ 37.3125 6.203125 41.140625 7.25 \nQ 44.96875 8.296875 48.78125 10.40625 \nL 48.78125 2.09375 \nQ 45.015625 0.34375 40.984375 -0.53125 \nQ 36.96875 -1.421875 32.421875 -1.421875 \nQ 20.0625 -1.421875 12.78125 6.34375 \nQ 5.515625 14.109375 5.515625 27.296875 \nQ 5.515625 40.671875 12.859375 48.328125 \nQ 20.21875 56 33.015625 56 \nQ 37.15625 56 41.109375 55.140625 \nQ 45.0625 54.296875 48.78125 52.59375 \nz\n\" id=\"DejaVuSans-99\"/>\n      </defs>\n      <use xlink:href=\"#DejaVuSans-99\"/>\n     </g>\n    </g>\n   </g>\n   <g id=\"text_4\">\n    <g clip-path=\"url(#p49a2db1e0c)\">\n     <!-- d -->\n     <g transform=\"translate(159.886805 273.519514)scale(0.12 -0.12)\">\n      <defs>\n       <path d=\"M 45.40625 46.390625 \nL 45.40625 75.984375 \nL 54.390625 75.984375 \nL 54.390625 0 \nL 45.40625 0 \nL 45.40625 8.203125 \nQ 42.578125 3.328125 38.25 0.953125 \nQ 33.9375 -1.421875 27.875 -1.421875 \nQ 17.96875 -1.421875 11.734375 6.484375 \nQ 5.515625 14.40625 5.515625 27.296875 \nQ 5.515625 40.1875 11.734375 48.09375 \nQ 17.96875 56 27.875 56 \nQ 33.9375 56 38.25 53.625 \nQ 42.578125 51.265625 45.40625 46.390625 \nz\nM 14.796875 27.296875 \nQ 14.796875 17.390625 18.875 11.75 \nQ 22.953125 6.109375 30.078125 6.109375 \nQ 37.203125 6.109375 41.296875 11.75 \nQ 45.40625 17.390625 45.40625 27.296875 \nQ 45.40625 37.203125 41.296875 42.84375 \nQ 37.203125 48.484375 30.078125 48.484375 \nQ 22.953125 48.484375 18.875 42.84375 \nQ 14.796875 37.203125 14.796875 27.296875 \nz\n\" id=\"DejaVuSans-100\"/>\n      </defs>\n      <use xlink:href=\"#DejaVuSans-100\"/>\n     </g>\n    </g>\n   </g>\n   <g id=\"text_5\">\n    <g clip-path=\"url(#p49a2db1e0c)\">\n     <!-- e -->\n     <g transform=\"translate(279.012257 35.502986)scale(0.12 -0.12)\">\n      <defs>\n       <path d=\"M 56.203125 29.59375 \nL 56.203125 25.203125 \nL 14.890625 25.203125 \nQ 15.484375 15.921875 20.484375 11.0625 \nQ 25.484375 6.203125 34.421875 6.203125 \nQ 39.59375 6.203125 44.453125 7.46875 \nQ 49.3125 8.734375 54.109375 11.28125 \nL 54.109375 2.78125 \nQ 49.265625 0.734375 44.1875 -0.34375 \nQ 39.109375 -1.421875 33.890625 -1.421875 \nQ 20.796875 -1.421875 13.15625 6.1875 \nQ 5.515625 13.8125 5.515625 26.8125 \nQ 5.515625 40.234375 12.765625 48.109375 \nQ 20.015625 56 32.328125 56 \nQ 43.359375 56 49.78125 48.890625 \nQ 56.203125 41.796875 56.203125 29.59375 \nz\nM 47.21875 32.234375 \nQ 47.125 39.59375 43.09375 43.984375 \nQ 39.0625 48.390625 32.421875 48.390625 \nQ 24.90625 48.390625 20.390625 44.140625 \nQ 15.875 39.890625 15.1875 32.171875 \nz\n\" id=\"DejaVuSans-101\"/>\n      </defs>\n      <use xlink:href=\"#DejaVuSans-101\"/>\n     </g>\n    </g>\n   </g>\n   <g id=\"text_6\">\n    <g clip-path=\"url(#p49a2db1e0c)\">\n     <!-- f -->\n     <g transform=\"translate(161.58368 122.623082)scale(0.12 -0.12)\">\n      <defs>\n       <path d=\"M 37.109375 75.984375 \nL 37.109375 68.5 \nL 28.515625 68.5 \nQ 23.6875 68.5 21.796875 66.546875 \nQ 19.921875 64.59375 19.921875 59.515625 \nL 19.921875 54.6875 \nL 34.71875 54.6875 \nL 34.71875 47.703125 \nL 19.921875 47.703125 \nL 19.921875 0 \nL 10.890625 0 \nL 10.890625 47.703125 \nL 2.296875 47.703125 \nL 2.296875 54.6875 \nL 10.890625 54.6875 \nL 10.890625 58.5 \nQ 10.890625 67.625 15.140625 71.796875 \nQ 19.390625 75.984375 28.609375 75.984375 \nz\n\" id=\"DejaVuSans-102\"/>\n      </defs>\n      <use xlink:href=\"#DejaVuSans-102\"/>\n     </g>\n    </g>\n   </g>\n   <g id=\"text_7\">\n    <g clip-path=\"url(#p49a2db1e0c)\">\n     <!-- g -->\n     <g transform=\"translate(40.878541 154.51125)scale(0.12 -0.12)\">\n      <defs>\n       <path d=\"M 45.40625 27.984375 \nQ 45.40625 37.75 41.375 43.109375 \nQ 37.359375 48.484375 30.078125 48.484375 \nQ 22.859375 48.484375 18.828125 43.109375 \nQ 14.796875 37.75 14.796875 27.984375 \nQ 14.796875 18.265625 18.828125 12.890625 \nQ 22.859375 7.515625 30.078125 7.515625 \nQ 37.359375 7.515625 41.375 12.890625 \nQ 45.40625 18.265625 45.40625 27.984375 \nz\nM 54.390625 6.78125 \nQ 54.390625 -7.171875 48.1875 -13.984375 \nQ 42 -20.796875 29.203125 -20.796875 \nQ 24.46875 -20.796875 20.265625 -20.09375 \nQ 16.0625 -19.390625 12.109375 -17.921875 \nL 12.109375 -9.1875 \nQ 16.0625 -11.328125 19.921875 -12.34375 \nQ 23.78125 -13.375 27.78125 -13.375 \nQ 36.625 -13.375 41.015625 -8.765625 \nQ 45.40625 -4.15625 45.40625 5.171875 \nL 45.40625 9.625 \nQ 42.625 4.78125 38.28125 2.390625 \nQ 33.9375 0 27.875 0 \nQ 17.828125 0 11.671875 7.65625 \nQ 5.515625 15.328125 5.515625 27.984375 \nQ 5.515625 40.671875 11.671875 48.328125 \nQ 17.828125 56 27.875 56 \nQ 33.9375 56 38.28125 53.609375 \nQ 42.625 51.21875 45.40625 46.390625 \nL 45.40625 54.6875 \nL 54.390625 54.6875 \nz\n\" id=\"DejaVuSans-103\"/>\n      </defs>\n      <use xlink:href=\"#DejaVuSans-103\"/>\n     </g>\n    </g>\n   </g>\n   <g id=\"text_8\">\n    <g clip-path=\"url(#p49a2db1e0c)\">\n     <!-- h -->\n     <g transform=\"translate(159.893368 67.391154)scale(0.12 -0.12)\">\n      <defs>\n       <path d=\"M 54.890625 33.015625 \nL 54.890625 0 \nL 45.90625 0 \nL 45.90625 32.71875 \nQ 45.90625 40.484375 42.875 44.328125 \nQ 39.84375 48.1875 33.796875 48.1875 \nQ 26.515625 48.1875 22.3125 43.546875 \nQ 18.109375 38.921875 18.109375 30.90625 \nL 18.109375 0 \nL 9.078125 0 \nL 9.078125 75.984375 \nL 18.109375 75.984375 \nL 18.109375 46.1875 \nQ 21.34375 51.125 25.703125 53.5625 \nQ 30.078125 56 35.796875 56 \nQ 45.21875 56 50.046875 50.171875 \nQ 54.890625 44.34375 54.890625 33.015625 \nz\n\" id=\"DejaVuSans-104\"/>\n      </defs>\n      <use xlink:href=\"#DejaVuSans-104\"/>\n     </g>\n    </g>\n   </g>\n  </g>\n </g>\n <defs>\n  <clipPath id=\"p49a2db1e0c\">\n   <rect height=\"288\" width=\"432\" x=\"7.2\" y=\"7.2\"/>\n  </clipPath>\n </defs>\n</svg>\n",
      "image/png": "[encoded data removed]"
     },
     "metadata": {}
    },
    {
     "output_type": "display_data",
     "data": {
      "text/plain": "<Figure size 432x288 with 0 Axes>"
     },
     "metadata": {}
    }
   ],
   "source": [
    "import networkx as nx\n",
    "import matplotlib.pyplot as plt\n",
    "from networkx.drawing.nx_pydot import write_dot\n",
    "\n",
    "G = nx.DiGraph()\n",
    "G.add_nodes_from(nodes)\n",
    "G.add_edges_from(arcs)\n",
    "\n",
    "pos=nx.spectral_layout(G)\n",
    "# pos = nx.kamada_kawai_layout(G) # alternative layout\n",
    "nx.draw(G, pos=pos, with_labels=True)\n",
    "#nx.draw_networkx_edge_labels(G,pos,edge_labels={e:G.edge[e[0]][e[1]][\"capacity\"] for e in G.edges()})\n",
    "plt.show()\n",
    "plt.savefig(\"graph.png\")\n",
    "\n",
    "#write_dot(G,\"graph.dot\")"
   ]
  },
  {
   "source": [
    "and use dedicated algorithms to solve common problems like the max flow problem:\n"
   ],
   "cell_type": "markdown",
   "metadata": {}
  },
  {
   "cell_type": "code",
   "execution_count": 20,
   "metadata": {},
   "outputs": [
    {
     "output_type": "stream",
     "name": "stdout",
     "text": [
      "28\n{'a': {'b': 13, 'c': 5, 'd': 10}, 'b': {'e': 13}, 'c': {'b': 0, 'f': 8}, 'd': {'c': 0, 'g': 9, 'f': 1}, 'g': {'f': 0, 'h': 9}, 'f': {'e': 0, 'h': 9}, 'e': {'c': 3, 'h': 10}, 'h': {}}\n"
     ]
    }
   ],
   "source": [
    "from networkx.algorithms.flow import shortest_augmenting_path\n",
    "\n",
    "G = nx.DiGraph()\n",
    "G.add_edge('a','b',capacity= 15)\n",
    "G.add_edge('a','c',capacity= 5)\n",
    "G.add_edge('a','d',capacity= 10)\n",
    "G.add_edge('d','c',capacity= 4)\n",
    "G.add_edge('c','b',capacity= 4)\n",
    "G.add_edge('d','g',capacity= 9)\n",
    "G.add_edge('d','f',capacity= 15)\n",
    "G.add_edge('c','f',capacity= 8)\n",
    "G.add_edge('b','e',capacity= 30)\n",
    "G.add_edge('e','c',capacity= 6)\n",
    "G.add_edge('g','f',capacity= 15)\n",
    "G.add_edge('f','e',capacity= 15)\n",
    "G.add_edge('g','h',capacity= 10)\n",
    "G.add_edge('f','h',capacity= 10)\n",
    "G.add_edge('e','h',capacity= 10)\n",
    "\n",
    "flow_value, flow_dict = nx.maximum_flow(G, 'a', 'h', flow_func=shortest_augmenting_path)\n",
    "print(flow_value)\n",
    "print(flow_dict)\n"
   ]
  },
  {
   "cell_type": "code",
   "execution_count": 22,
   "metadata": {},
   "outputs": [],
   "source": [
    "cut_value, partition = nx.minimum_cut(G, \"a\", \"h\")\n",
    "reachable, non_reachable = partition\n"
   ]
  },
  {
   "cell_type": "code",
   "execution_count": null,
   "metadata": {},
   "outputs": [],
   "source": [
    "‘partition’ here is a tuple with the two sets of nodes that define the minimum cut. \n",
    "You can compute the cut set of edges that induce the minimum cut as follows:\n"
   ]
  },
  {
   "cell_type": "code",
   "execution_count": 23,
   "metadata": {},
   "outputs": [
    {
     "output_type": "stream",
     "name": "stdout",
     "text": [
      "[('a', 'd'), ('c', 'f'), ('e', 'h')]\n"
     ]
    },
    {
     "output_type": "execute_result",
     "data": {
      "text/plain": [
       "True"
      ]
     },
     "metadata": {},
     "execution_count": 23
    }
   ],
   "source": [
    "cutset = set()\n",
    "for u, nbrs in ((n, G[n]) for n in reachable):\n",
    "    cutset.update((u, v) for v in nbrs if v in non_reachable)\n",
    "print(sorted(cutset))\n",
    "cut_value == sum(G.edges[u, v][\"capacity\"] for (u, v) in cutset)"
   ]
  }
 ]
}