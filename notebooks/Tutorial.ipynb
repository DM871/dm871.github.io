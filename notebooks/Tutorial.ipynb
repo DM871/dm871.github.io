{
 "cells": [
  {
   "cell_type": "markdown",
   "metadata": {
    "slideshow": {
     "slide_type": "slide"
    }
   },
   "source": [
    "# Interactive Python \n",
    "\n",
    "In this course, we will use Python to carry out computation. In particular, it would be helpful to use Python interactively, trying things and learning by doing.\n",
    "\n",
    "Interactive Python is made available by the IDE Spyder and by Jupyter. Spyder is a Python Integrated Development Environment (IDE) that is installed in the Linux machines of the IMADA Computer Lab. Just type `spyder` from command line. Unfortunately, I have not succeeded in installing Spyder under MacOsX. If you want to try you should use [Anacoda](https://www.continuum.io/), a widely-used Python platform that includes Spyder. It might work.\n",
    "\n",
    "Jupyter provides a language-agnostic architecture for interactive computing. IPython is focused on Python providing a Python kernel for Jupyter. Jupyter notebook provides a python interface in the browser. The tutorial you are reading is a python notebook.\n",
    "\n",
    "To install Jupyter follow the instructions at the [Jupyter page](http://jupyter.org/install.html). For example, you can use [Anacoda](https://www.continuum.io/). Anaconda provides also a broad set of Python modules, among which Gurobi, that we will use in the second part of the course. Anaconda isn't the only choice in Python distributions and/or IDEs. Popular alternatives include Canopy, Eric, iep, and PyDev. However, if you are a more experienced user you can also use `pip`. In the course you can use Python 2.7 or Python 3.6. Gurobi does not support Python 3.5 or Python 3.7. The behaviour of Python 3 can be approximated in Python 2.7 by importing the module `__future__`. For example:\n",
    "```\n",
    "from __future__ import division, print_function, unicode_literals\n",
    "```\n",
    "\n",
    "Jupyter can be used from the shell by calling a console that allows the inlining of plots and text highlighting by typing: \n",
    "```bash\n",
    "jupyter qtconsole\n",
    "```\n",
    "or as notebook from a borwser started by typing \n",
    "```bash \n",
    "jupyter notebook\n",
    "```\n",
    "Notebook-style interfaces allow to mix executable code, text, and graphics and to create a self-documenting stream of results. Notebooks can be saved and continued later, which make them particularly well suited for prototyping and experimentation.\n",
    "\n",
    "You can create a new notebook by clicking on the `New` icon (in the upper right) and choosing one of the Notebook options. Once your new notebook starts, you can type standard Python commands or Gurobi Interactive Shell commands directly into the `In` window. \n",
    "\n",
    "\n",
    "You can read documentation on ipython at these links:\n",
    "\n",
    "* [IPython documentation](http://ipython.readthedocs.io/en/stable/)\n",
    "\n",
    "* [Using IPython for interactive work](http://ipython.readthedocs.io/en/stable/interactive/index.html)"
   ]
  },
  {
   "cell_type": "markdown",
   "metadata": {},
   "source": [
    "## Plotting \n",
    "\n",
    "Plotting in Python works with the [Matplotlib](http://matplotlib.org/) plotting library. \n",
    "\n",
    "Matplotlib integrates with IPython's display system and event loop handling.\n",
    "<!-- (there is also a feature to load [Matplotlib examples](http://matplotlib.org/examples) %load URL_to_py eg: %load http://matplotlib.org/mpl_examples/style_sheets/plot_ggplot.py) -->\n",
    "To make plots in IPython using Matplotlib, you must first enable IPython's matplotlib mode. To do this, run the `%matplotlib` command to enable plotting in a Notebook. This takes an optional argument that specifies which Matplotlib backend should be used. Most of the time, in the Notebook, you will want to use the inline backend, which will embed plots inside the Notebook:"
   ]
  },
  {
   "cell_type": "code",
   "execution_count": 1,
   "metadata": {},
   "outputs": [],
   "source": [
    "%matplotlib inline"
   ]
  },
  {
   "cell_type": "markdown",
   "metadata": {},
   "source": [
    "Functions with % are extra functions of IPython that add functionalities to the environment. They are called [*magic functions*](http://ipython.org/ipython-doc/dev/interactive/magics.html). Other useful magic function are %timeit to determine running time of a command and %run to run a script from a file. \n",
    "The command %matplotlib does not load the library in python. As usual we do:"
   ]
  },
  {
   "cell_type": "code",
   "execution_count": 2,
   "metadata": {},
   "outputs": [],
   "source": [
    "import matplotlib.pyplot as plt"
   ]
  },
  {
   "cell_type": "markdown",
   "metadata": {},
   "source": [
    "To work with Linear Algebra we will use the `numpy` module (or alternatively `scipy`). This module makes available a data type `array` which is suitable to carry out matrix operations."
   ]
  },
  {
   "cell_type": "code",
   "execution_count": 3,
   "metadata": {},
   "outputs": [],
   "source": [
    "import numpy as np"
   ]
  },
  {
   "cell_type": "markdown",
   "metadata": {},
   "source": [
    "In IPython you can have access to the documentation of a function by typing '?' followed by the name of the module followed by the function: eg, `?np.polyd`"
   ]
  },
  {
   "cell_type": "markdown",
   "metadata": {},
   "source": [
    "Let's plot the following polynomial of degree 3: \n",
    "\n",
    "$$P_3(x)=x^3-7x+6=(x-1)(x-2)(x+3)$$\n",
    "\n",
    "We use the `numpy.poly1d` function to represent the polynomial. It takes an array of coefficients `a` of length $n+1$ such that the polynomial is described by:\n",
    "```python\n",
    "    a[0] * x**n + a[1] * x**(n-1) + ... + a[n-1]*x + a[n]\n",
    "```\n",
    "(Try `numpy.polyfit?` to know more). "
   ]
  },
  {
   "cell_type": "code",
   "execution_count": 4,
   "metadata": {},
   "outputs": [
    {
     "name": "stdout",
     "output_type": "stream",
     "text": [
      "   3\n",
      "1 x - 7 x + 6\n"
     ]
    }
   ],
   "source": [
    "a=[1,0,-7,6]\n",
    "P=np.poly1d(a)\n",
    "print(P)"
   ]
  },
  {
   "cell_type": "code",
   "execution_count": 5,
   "metadata": {},
   "outputs": [
    {
     "data": {
      "image/png": "[encoded data removed]",
      "text/plain": [
       "<matplotlib.figure.Figure at 0x7fa6df499f98>"
      ]
     },
     "metadata": {},
     "output_type": "display_data"
    }
   ],
   "source": [
    "x = np.linspace(-3.5, 3.5, 500)\n",
    "plt.plot(x, P(x), '-')\n",
    "plt.axhline(y=0)\n",
    "plt.title('A polynomial of order 3');"
   ]
  },
  {
   "cell_type": "markdown",
   "metadata": {},
   "source": [
    "**Roots of a polynomial of degree n**\n",
    "\n",
    "Let's $P_n(x)$ be a general polynomial of degree $n$:\n",
    "\n",
    "$$P_n(x)=p_n+p_{n-1}x+p_{n-2}x^2+\\cdots+p_0x^n$$\n",
    "\n",
    "`numpy.roots(p)` Return the roots of a polynomial with coefficients given in `P`. For the polynomial of 3rd degree seen above: "
   ]
  },
  {
   "cell_type": "code",
   "execution_count": 6,
   "metadata": {
    "slideshow": {
     "slide_type": "fragment"
    }
   },
   "outputs": [
    {
     "data": {
      "text/plain": [
       "array([-3.,  2.,  1.])"
      ]
     },
     "execution_count": 6,
     "metadata": {},
     "output_type": "execute_result"
    }
   ],
   "source": [
    "np.roots(P)"
   ]
  },
  {
   "cell_type": "markdown",
   "metadata": {},
   "source": [
    "## Arrays and Matrices\n",
    "We shall use `np.array` to represent matrices and vectors. Although the native data type `list` could be used as well, there are some important differences in the operations that can be carried out among these data types. In particular, most matrix operations are not defined on `lists` and would need to be reimplemented while `np.array` have them already available. On the other hand, there is no append method with `np.array`. Let's see some examples:"
   ]
  },
  {
   "cell_type": "code",
   "execution_count": 7,
   "metadata": {},
   "outputs": [
    {
     "name": "stdout",
     "output_type": "stream",
     "text": [
      "[2 4 6]\n",
      "[ 0.5  1.   1.5]\n"
     ]
    }
   ],
   "source": [
    "b=np.array([1,2,3])\n",
    "print(2*b)\n",
    "print(b/2)\n",
    "#np.norm(b)"
   ]
  },
  {
   "cell_type": "markdown",
   "metadata": {},
   "source": [
    "**Indexing and slices**  \n",
    "\n",
    "Indices start at 0."
   ]
  },
  {
   "cell_type": "code",
   "execution_count": 8,
   "metadata": {},
   "outputs": [
    {
     "name": "stdout",
     "output_type": "stream",
     "text": [
      "A:  [[ 1.  2.  3.]\n",
      " [ 4.  5.  6.]\n",
      " [ 7.  8.  9.]]\n",
      "1.0\n",
      "[[ 4.  5.  6.]\n",
      " [ 7.  8.  9.]]\n",
      "[ 4.  5.  6.]\n",
      "[ 3.  6.  9.]\n",
      "Type:  float64\n",
      "Dimension: (3, 3) 2\n"
     ]
    }
   ],
   "source": [
    "A=np.array([[1.,2,3],\n",
    "            [4,5,6],\n",
    "            [7,8,9]])\n",
    "print(\"A: \", A)\n",
    "print(A[0,0])\n",
    "print(A[1:]) # all rows starting from the second\n",
    "print(A[1]) # the second row of the matrix\n",
    "print(A[:,2]) # a vector filled by the 3nd column of the matrix \n",
    "print(\"Type: \", A.dtype)\n",
    "print(\"Dimension:\", A.shape, A.ndim)"
   ]
  },
  {
   "cell_type": "code",
   "execution_count": 9,
   "metadata": {},
   "outputs": [
    {
     "data": {
      "text/plain": [
       "array([[ 1.,  2.,  3.,  4.,  5.,  6.,  7.,  8.,  9.]])"
      ]
     },
     "execution_count": 9,
     "metadata": {},
     "output_type": "execute_result"
    }
   ],
   "source": [
    "A.reshape(1,9)"
   ]
  },
  {
   "cell_type": "markdown",
   "metadata": {},
   "source": [
    "Caution: reshape is just a view on the array, it does not copy the data. Beware: the following do *shallow copy*:"
   ]
  },
  {
   "cell_type": "code",
   "execution_count": 10,
   "metadata": {},
   "outputs": [
    {
     "data": {
      "text/plain": [
       "array([[  0.,   2.,   3.],\n",
       "       [  4.,   5.,   6.],\n",
       "       [  7.,  10.,   9.]])"
      ]
     },
     "execution_count": 10,
     "metadata": {},
     "output_type": "execute_result"
    }
   ],
   "source": [
    "N=A\n",
    "N[0,0] = 0 # now A[0,0] = 1\n",
    "M=A.reshape(1,9)\n",
    "M[0,7]=10 # now A[2,1] is 10\n",
    "A"
   ]
  },
  {
   "cell_type": "markdown",
   "metadata": {},
   "source": [
    "We can see the base object by:"
   ]
  },
  {
   "cell_type": "code",
   "execution_count": 11,
   "metadata": {},
   "outputs": [
    {
     "name": "stdout",
     "output_type": "stream",
     "text": [
      "None\n",
      "[[  0.   2.   3.]\n",
      " [  4.   5.   6.]\n",
      " [  7.  10.   9.]]\n"
     ]
    }
   ],
   "source": [
    "print(A.base)\n",
    "print(M.base) # the base object of M is the matrix A"
   ]
  },
  {
   "cell_type": "markdown",
   "metadata": {},
   "source": [
    "To implement a *deep copy* you must use:"
   ]
  },
  {
   "cell_type": "code",
   "execution_count": 12,
   "metadata": {},
   "outputs": [
    {
     "data": {
      "text/plain": [
       "array([[  0.,   2.,   3.],\n",
       "       [  4.,   5.,   6.],\n",
       "       [  7.,  10.,   9.]])"
      ]
     },
     "execution_count": 12,
     "metadata": {},
     "output_type": "execute_result"
    }
   ],
   "source": [
    "B=np.copy(A)\n",
    "B"
   ]
  },
  {
   "cell_type": "markdown",
   "metadata": {},
   "source": [
    "Caution with casting:"
   ]
  },
  {
   "cell_type": "code",
   "execution_count": 13,
   "metadata": {},
   "outputs": [
    {
     "name": "stdout",
     "output_type": "stream",
     "text": [
      "[[  1.5   2.    3. ]\n",
      " [  4.    5.    6. ]\n",
      " [  7.   10.    9. ]]\n",
      "[[ 0  2  3]\n",
      " [ 4  5  6]\n",
      " [ 7 10  9]]\n"
     ]
    }
   ],
   "source": [
    "B=A.astype('int')\n",
    "A[0,0]=1.5\n",
    "B[0,1]=2.5\n",
    "print(A)\n",
    "print(B)"
   ]
  },
  {
   "cell_type": "markdown",
   "metadata": {},
   "source": [
    "In Jupyter it is possible from command line to ask for completion via\n",
    "tab. This can also be used to explore which functions are available for\n",
    "a given module. Try for example to type \n",
    "```\n",
    "import numpy as np\n",
    "np.\n",
    "```\n",
    "followed by a tab. You should see a list of available functions. Among\n",
    "them there are two submodules that will be very useful for us:\n",
    "`random` and `linalg`. The first implements function to\n",
    "generate random numbers and matrices. The second implements functions\n",
    "from linear algebra."
   ]
  },
  {
   "cell_type": "markdown",
   "metadata": {},
   "source": [
    "### Functions to construct arrays\n",
    "\n",
    "The following is a list of functions to construct matrices and vectors."
   ]
  },
  {
   "cell_type": "code",
   "execution_count": 14,
   "metadata": {},
   "outputs": [
    {
     "data": {
      "text/plain": [
       "array([[ 0.,  0.,  0.,  0.],\n",
       "       [ 0.,  0.,  0.,  0.],\n",
       "       [ 0.,  0.,  0.,  0.]])"
      ]
     },
     "execution_count": 14,
     "metadata": {},
     "output_type": "execute_result"
    }
   ],
   "source": [
    "np.zeros((3,4))"
   ]
  },
  {
   "cell_type": "code",
   "execution_count": 15,
   "metadata": {},
   "outputs": [
    {
     "data": {
      "text/plain": [
       "array([[5, 4, 9, 1],\n",
       "       [6, 3, 4, 2],\n",
       "       [3, 5, 4, 4]])"
      ]
     },
     "execution_count": 15,
     "metadata": {},
     "output_type": "execute_result"
    }
   ],
   "source": [
    "np.ones((3,4))\n",
    "np.identity(4)\n",
    "np.diag([1,2,3,4])\n",
    "np.random.rand(3,4)\n",
    "np.random.randint(1,10,size=(3,4))"
   ]
  },
  {
   "cell_type": "code",
   "execution_count": 16,
   "metadata": {},
   "outputs": [
    {
     "data": {
      "text/plain": [
       "array([0, 1, 2, 3, 4])"
      ]
     },
     "execution_count": 16,
     "metadata": {},
     "output_type": "execute_result"
    }
   ],
   "source": [
    "np.arange(5)"
   ]
  },
  {
   "cell_type": "code",
   "execution_count": 17,
   "metadata": {},
   "outputs": [
    {
     "data": {
      "text/plain": [
       "array([ 0. ,  0.5,  1. ,  1.5,  2. ,  2.5,  3. ,  3.5,  4. ,  4.5,  5. ])"
      ]
     },
     "execution_count": 17,
     "metadata": {},
     "output_type": "execute_result"
    }
   ],
   "source": [
    "np.linspace(0,5,11)"
   ]
  },
  {
   "cell_type": "markdown",
   "metadata": {},
   "source": [
    "To concatenate arrays you have to use the concatenate function"
   ]
  },
  {
   "cell_type": "code",
   "execution_count": 18,
   "metadata": {},
   "outputs": [
    {
     "data": {
      "text/plain": [
       "array([[  1.5,   2. ,   3. ,   1.5,   2. ,   3. ],\n",
       "       [  4. ,   5. ,   6. ,   4. ,   5. ,   6. ],\n",
       "       [  7. ,  10. ,   9. ,   7. ,  10. ,   9. ]])"
      ]
     },
     "execution_count": 18,
     "metadata": {},
     "output_type": "execute_result"
    }
   ],
   "source": [
    "np.concatenate([A,A],axis=1) # same as np.column_stack() and np.hstack()"
   ]
  },
  {
   "cell_type": "code",
   "execution_count": 19,
   "metadata": {},
   "outputs": [
    {
     "data": {
      "text/plain": [
       "array([[  1.5,   2. ,   3. ],\n",
       "       [  4. ,   5. ,   6. ],\n",
       "       [  7. ,  10. ,   9. ],\n",
       "       [  1.5,   2. ,   3. ],\n",
       "       [  4. ,   5. ,   6. ],\n",
       "       [  7. ,  10. ,   9. ]])"
      ]
     },
     "execution_count": 19,
     "metadata": {},
     "output_type": "execute_result"
    }
   ],
   "source": [
    "np.concatenate([A,A],axis=0) # same as np.row_stack() and np.vstack()"
   ]
  },
  {
   "cell_type": "markdown",
   "metadata": {},
   "source": [
    "Note that `concatenate` works with arrays that are at least 2-dimensional. The methods: \n",
    "- `column_stack` and `hstack` to stack 1-D arrays as columns into a 2-D array and\n",
    "- `row_stack` and `vstack` to stack arrays in sequence vertically (row wise)\n",
    "\n",
    "work also with 1-dimensional arrays."
   ]
  },
  {
   "cell_type": "markdown",
   "metadata": {},
   "source": [
    "## Operations with arrays\n",
    "\n",
    "The operations `+,*,/,-` are *elementwise*. For the operations of scalar multiplication and matrix multiplication the `dot` method must be used. Compare the following two cells:"
   ]
  },
  {
   "cell_type": "code",
   "execution_count": 20,
   "metadata": {},
   "outputs": [
    {
     "data": {
      "text/plain": [
       "array([2, 0, 3])"
      ]
     },
     "execution_count": 20,
     "metadata": {},
     "output_type": "execute_result"
    }
   ],
   "source": [
    "b=np.array([1,2,3])\n",
    "v=np.array([2,0,1])\n",
    "b*v"
   ]
  },
  {
   "cell_type": "code",
   "execution_count": 21,
   "metadata": {},
   "outputs": [
    {
     "data": {
      "text/plain": [
       "5"
      ]
     },
     "execution_count": 21,
     "metadata": {},
     "output_type": "execute_result"
    }
   ],
   "source": [
    "np.dot(b,v)"
   ]
  },
  {
   "cell_type": "code",
   "execution_count": 22,
   "metadata": {},
   "outputs": [
    {
     "data": {
      "text/plain": [
       "array([[  1.5,   4. ,   9. ],\n",
       "       [  4. ,  10. ,  18. ],\n",
       "       [  7. ,  20. ,  27. ]])"
      ]
     },
     "execution_count": 22,
     "metadata": {},
     "output_type": "execute_result"
    }
   ],
   "source": [
    "A*b"
   ]
  },
  {
   "cell_type": "code",
   "execution_count": 23,
   "metadata": {},
   "outputs": [
    {
     "data": {
      "text/plain": [
       "array([ 14.5,  32. ,  54. ])"
      ]
     },
     "execution_count": 23,
     "metadata": {},
     "output_type": "execute_result"
    }
   ],
   "source": [
    "np.dot(A,b)"
   ]
  },
  {
   "cell_type": "code",
   "execution_count": 24,
   "metadata": {},
   "outputs": [
    {
     "data": {
      "text/plain": [
       "array([[  1.5,   4. ,   7. ],\n",
       "       [  2. ,   5. ,  10. ],\n",
       "       [  3. ,   6. ,   9. ]])"
      ]
     },
     "execution_count": 24,
     "metadata": {},
     "output_type": "execute_result"
    }
   ],
   "source": [
    "A.T # Matrix transpose"
   ]
  },
  {
   "cell_type": "markdown",
   "metadata": {},
   "source": [
    "Beware that like reshape, transpose does not copy the data. \n",
    "Vectors have one dimension hence transposing does not do anything particular. In this case it is more appropriate to use reshape:"
   ]
  },
  {
   "cell_type": "code",
   "execution_count": 25,
   "metadata": {},
   "outputs": [
    {
     "data": {
      "text/plain": [
       "array([[1],\n",
       "       [2],\n",
       "       [3]])"
      ]
     },
     "execution_count": 25,
     "metadata": {},
     "output_type": "execute_result"
    }
   ],
   "source": [
    "b.reshape(-1,1) # yelds a column vector, -1 tells to guess the size"
   ]
  },
  {
   "cell_type": "markdown",
   "metadata": {},
   "source": [
    "Most mathematical functions act element-wise. They are also called universal functions."
   ]
  },
  {
   "cell_type": "code",
   "execution_count": 26,
   "metadata": {},
   "outputs": [
    {
     "data": {
      "text/plain": [
       "array([ 0.54030231, -0.41614684, -0.9899925 ])"
      ]
     },
     "execution_count": 26,
     "metadata": {},
     "output_type": "execute_result"
    }
   ],
   "source": [
    "np.cos(np.array([1,2,3]))"
   ]
  },
  {
   "cell_type": "code",
   "execution_count": 27,
   "metadata": {},
   "outputs": [
    {
     "data": {
      "text/plain": [
       "array([1, 2, 4, 8])"
      ]
     },
     "execution_count": 27,
     "metadata": {},
     "output_type": "execute_result"
    }
   ],
   "source": [
    "2**np.arange(4) # arange includes the 0"
   ]
  },
  {
   "cell_type": "code",
   "execution_count": 28,
   "metadata": {},
   "outputs": [
    {
     "data": {
      "text/plain": [
       "array([ 1,  1,  4, 27])"
      ]
     },
     "execution_count": 28,
     "metadata": {},
     "output_type": "execute_result"
    }
   ],
   "source": [
    "np.arange(4)**np.arange(4)"
   ]
  },
  {
   "cell_type": "markdown",
   "metadata": {},
   "source": [
    "Some functions do not act component-wise, eg, `min`, `max`, `sum`. These functions may operate on the whole matrix or column-wise or row-wise."
   ]
  },
  {
   "cell_type": "code",
   "execution_count": 29,
   "metadata": {},
   "outputs": [
    {
     "name": "stdout",
     "output_type": "stream",
     "text": [
      "[[  1.5   2.    3. ]\n",
      " [  4.    5.    6. ]\n",
      " [  7.   10.    9. ]]\n"
     ]
    },
    {
     "data": {
      "text/plain": [
       "array([ 12.5,  17. ,  18. ])"
      ]
     },
     "execution_count": 29,
     "metadata": {},
     "output_type": "execute_result"
    }
   ],
   "source": [
    "print(A)\n",
    "np.sum(A) # on the whole matrix\n",
    "np.sum(A,axis=1) # row-wise\n",
    "np.sum(A,axis=0) # column-wise (this is also the result of `sum` from base python)"
   ]
  },
  {
   "cell_type": "markdown",
   "metadata": {},
   "source": [
    "If it is not, it is possible to make a function element-wise via `vectorize`. This yields often an improvement in performance with respect to for loops. Compare for example:"
   ]
  },
  {
   "cell_type": "code",
   "execution_count": 30,
   "metadata": {},
   "outputs": [
    {
     "data": {
      "text/plain": [
       "array([[0, 0, 0],\n",
       "       [0, 0, 1],\n",
       "       [1, 1, 1]])"
      ]
     },
     "execution_count": 30,
     "metadata": {},
     "output_type": "execute_result"
    }
   ],
   "source": [
    "def f(x):\n",
    "    return 0 if x<=5 else 1\n",
    "# f(A) # error\n",
    "np.vectorize(f)(A)"
   ]
  },
  {
   "cell_type": "markdown",
   "metadata": {},
   "source": [
    "#### Matrix inverse  \n",
    "\n",
    "The inverse of a matrix can be calculated with a function from the set of linear algebra functions of numpy.  "
   ]
  },
  {
   "cell_type": "code",
   "execution_count": 31,
   "metadata": {},
   "outputs": [
    {
     "data": {
      "text/plain": [
       "array([[-3.33333333,  2.66666667, -0.66666667],\n",
       "       [ 1.33333333, -1.66666667,  0.66666667],\n",
       "       [ 1.11111111, -0.22222222, -0.11111111]])"
      ]
     },
     "execution_count": 31,
     "metadata": {},
     "output_type": "execute_result"
    }
   ],
   "source": [
    "np.linalg.det(A) # returns the determinant of A, $det(A) \\neq 0$ if matrix invertible \n",
    "np.linalg.inv(A)"
   ]
  },
  {
   "cell_type": "markdown",
   "metadata": {},
   "source": [
    "#### Plotting vectors\n",
    "\n",
    "To plot vectors we can use [`matplotlib.pyplot.quiver`](http://matplotlib.org/api/pyplot_api.html#matplotlib.pyplot.quiver). In the basic form `quiver(X,Y,U,V)`, `X` and `Y` are the coordinates of the tail of the vector and U and V the components of the vector. The plot needs some tweak for the scales."
   ]
  },
  {
   "cell_type": "code",
   "execution_count": 32,
   "metadata": {},
   "outputs": [
    {
     "data": {
      "image/png": "[encoded data removed]",
      "text/plain": [
       "<matplotlib.figure.Figure at 0x7fa6dd169b38>"
      ]
     },
     "metadata": {},
     "output_type": "display_data"
    }
   ],
   "source": [
    "plt.quiver(0,0,3,4,scale=1,scale_units='xy',angles='xy')\n",
    "plt.gca().set_xlim([0,5])\n",
    "plt.gca().set_ylim([0,5]);"
   ]
  },
  {
   "cell_type": "code",
   "execution_count": 33,
   "metadata": {},
   "outputs": [
    {
     "data": {
      "image/png": "[encoded data removed]",
      "text/plain": [
       "<matplotlib.figure.Figure at 0x7fa6dd18b278>"
      ]
     },
     "metadata": {},
     "output_type": "display_data"
    }
   ],
   "source": [
    "soa =np.array( [ [3,2], [1,1], [9,9]]) \n",
    "U,V = zip(*soa)\n",
    "plt.quiver([0,0,0],[0,0,0],U,V,angles='xy',scale_units='xy',scale=1)\n",
    "ax=plt.gca()\n",
    "ax.set_xlim([-1,10])\n",
    "ax.set_ylim([-1,10]);"
   ]
  },
  {
   "cell_type": "markdown",
   "metadata": {},
   "source": [
    "## Solving a Linear System\n",
    "If $A$ is a matrix and $\\mathbf{b}$ is a vector, the system of linear equations $$A\\mathbf{x}=\\mathbf{b}$$ is solved using the `solve` method from `numpy.linalg` or `scipy.linalg` (the second being more efficient):"
   ]
  },
  {
   "cell_type": "code",
   "execution_count": 34,
   "metadata": {},
   "outputs": [
    {
     "data": {
      "text/plain": [
       "array([ -1.11022302e-16,   7.77156117e-17,   3.33333333e-01])"
      ]
     },
     "execution_count": 34,
     "metadata": {},
     "output_type": "execute_result"
    }
   ],
   "source": [
    "import scipy.linalg as sl\n",
    "x=sl.solve(A, b)\n",
    "x"
   ]
  },
  {
   "cell_type": "code",
   "execution_count": 35,
   "metadata": {},
   "outputs": [
    {
     "data": {
      "text/plain": [
       "True"
      ]
     },
     "execution_count": 35,
     "metadata": {},
     "output_type": "execute_result"
    }
   ],
   "source": [
    "np.allclose(np.dot(A, x), b)"
   ]
  },
  {
   "cell_type": "markdown",
   "metadata": {},
   "source": [
    "## Easy printing for LaTex"
   ]
  },
  {
   "cell_type": "code",
   "execution_count": 36,
   "metadata": {},
   "outputs": [],
   "source": [
    "def bmatrix(a):\n",
    "    \"\"\"Returns a LaTeX bmatrix\n",
    "    :a: numpy array\n",
    "    :returns: LaTeX bmatrix as a string\n",
    "    \"\"\"\n",
    "    if len(a.shape) > 2:\n",
    "        raise ValueError('bmatrix can at most display two dimensions')\n",
    "    lines = str(a).replace('[', '').replace(']', '').splitlines()\n",
    "    rv = [r'\\begin{bmatrix}']\n",
    "    rv += [r'  ' + ' & '.join(l.split()) + '\\\\\\\\' for l in lines]\n",
    "    rv +=  [r'\\end{bmatrix}']\n",
    "    return '\\n'.join(rv)"
   ]
  },
  {
   "cell_type": "code",
   "execution_count": 37,
   "metadata": {},
   "outputs": [
    {
     "name": "stdout",
     "output_type": "stream",
     "text": [
      "\\begin{bmatrix}\n",
      "  0 & 3\\\\\n",
      "  2 & 1\\\\\n",
      "\\end{bmatrix}\n",
      "\\begin{bmatrix}\n",
      "  0 & 2\\\\\n",
      "  3 & 1\\\\\n",
      "\\end{bmatrix}\n"
     ]
    }
   ],
   "source": [
    "A=np.random.randint(4,size=(2,2))\n",
    "print(bmatrix(A)) \n",
    "print(bmatrix(A.T))"
   ]
  },
  {
   "cell_type": "markdown",
   "metadata": {},
   "source": [
    "## Fraction Mode\n",
    "\n",
    "It is possible to carry out operations in fraction mode using the module `fractions`. "
   ]
  },
  {
   "cell_type": "code",
   "execution_count": 38,
   "metadata": {},
   "outputs": [],
   "source": [
    "from fractions import Fraction as f\n",
    "A = np.array([[f(1,1),f(2,1)],\n",
    "              [f(3,1),f(4,1)]])\n",
    "A[0] = f(1,3)*A[0]"
   ]
  },
  {
   "cell_type": "markdown",
   "metadata": {},
   "source": [
    "Some pretty printing function, which translates fractions in strings:"
   ]
  },
  {
   "cell_type": "code",
   "execution_count": 39,
   "metadata": {},
   "outputs": [],
   "source": [
    "def printm(a):\n",
    "    \"\"\"Prints the array as strings \n",
    "    :a: numpy array\n",
    "    :returns: prints the array\n",
    "    \"\"\"\n",
    "    def p(x):\n",
    "        return str(x)\n",
    "    p = np.vectorize(p,otypes=[str])\n",
    "    print(p(a))"
   ]
  },
  {
   "cell_type": "code",
   "execution_count": 40,
   "metadata": {},
   "outputs": [
    {
     "name": "stdout",
     "output_type": "stream",
     "text": [
      "[['1/3' '2/3']\n",
      " ['3' '4']]\n"
     ]
    }
   ],
   "source": [
    "printm(A)"
   ]
  }
 ],
 "metadata": {
  "kernelspec": {
   "display_name": "Python 3",
   "language": "python",
   "name": "python3"
  },
  "language_info": {
   "codemirror_mode": {
    "name": "ipython",
    "version": 3
   },
   "file_extension": ".py",
   "mimetype": "text/x-python",
   "name": "python",
   "nbconvert_exporter": "python",
   "pygments_lexer": "ipython3",
   "version": "3.6.4"
  }
 },
 "nbformat": 4,
 "nbformat_minor": 2
}
